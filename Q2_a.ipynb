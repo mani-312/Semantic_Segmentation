{
  "nbformat": 4,
  "nbformat_minor": 0,
  "metadata": {
    "colab": {
      "provenance": []
    },
    "kernelspec": {
      "name": "python3",
      "display_name": "Python 3"
    },
    "language_info": {
      "name": "python"
    },
    "accelerator": "GPU",
    "gpuClass": "standard"
  },
  "cells": [
    {
      "cell_type": "code",
      "execution_count": null,
      "metadata": {
        "id": "1tQl2PYkFKvY"
      },
      "outputs": [],
      "source": [
        "# Class names of Pascal voc dataset\n",
        "\n",
        "class_names = ['__background__', 'aeroplane', 'bicycle', 'bird', 'boat', 'bottle', 'bus',\n",
        " 'car', 'cat', 'chair', 'cow', 'diningtable', 'dog', 'horse', 'motorbike',\n",
        " 'person', 'pottedplant', 'sheep', 'sofa', 'train', 'tvmonitor']"
      ]
    },
    {
      "cell_type": "code",
      "source": [
        "# Loading modules\n",
        "\n",
        "from __future__ import print_function, division\n",
        "\n",
        "import torch\n",
        "import torch.nn as nn\n",
        "import torch.optim as optim\n",
        "from torch.optim import lr_scheduler\n",
        "import torch.backends.cudnn as cudnn\n",
        "import numpy as np\n",
        "import torchvision\n",
        "from torchvision import datasets, models, transforms\n",
        "from PIL import Image\n",
        "import matplotlib.pyplot as plt\n",
        "import time\n",
        "import os\n",
        "import cv2\n",
        "import copy\n",
        "import glob\n",
        "!pip install torchmetrics\n",
        "from torchmetrics import ConfusionMatrix\n",
        "cudnn.benchmark = True\n",
        "plt.ion()   # interactive mode"
      ],
      "metadata": {
        "colab": {
          "base_uri": "https://localhost:8080/"
        },
        "id": "XUoxwRNAFppz",
        "outputId": "6943cfe9-831c-49e5-d60d-b7e69cc9ac9b"
      },
      "execution_count": null,
      "outputs": [
        {
          "output_type": "stream",
          "name": "stdout",
          "text": [
            "Looking in indexes: https://pypi.org/simple, https://us-python.pkg.dev/colab-wheels/public/simple/\n",
            "Requirement already satisfied: torchmetrics in /usr/local/lib/python3.8/dist-packages (0.11.1)\n",
            "Requirement already satisfied: torch>=1.8.1 in /usr/local/lib/python3.8/dist-packages (from torchmetrics) (1.13.1+cu116)\n",
            "Requirement already satisfied: typing-extensions in /usr/local/lib/python3.8/dist-packages (from torchmetrics) (4.4.0)\n",
            "Requirement already satisfied: packaging in /usr/local/lib/python3.8/dist-packages (from torchmetrics) (23.0)\n",
            "Requirement already satisfied: numpy>=1.17.2 in /usr/local/lib/python3.8/dist-packages (from torchmetrics) (1.21.6)\n"
          ]
        }
      ]
    },
    {
      "cell_type": "code",
      "source": [
        "# define the torchvision image transforms\n",
        "transform = transforms.Compose([\n",
        "    transforms.ToTensor(),\n",
        "    transforms.Normalize(mean=[0.485, 0.456, 0.406],\n",
        "                         std=[0.229, 0.224, 0.225])\n",
        "])"
      ],
      "metadata": {
        "id": "jvsI6Ra6GarI"
      },
      "execution_count": null,
      "outputs": []
    },
    {
      "cell_type": "code",
      "source": [
        "num_classes = len(class_names)\n",
        "num_classes"
      ],
      "metadata": {
        "id": "AF2WXOvVWMcv",
        "colab": {
          "base_uri": "https://localhost:8080/"
        },
        "outputId": "62e9e667-6f2b-4104-b3d4-6784fd49ea9b"
      },
      "execution_count": null,
      "outputs": [
        {
          "output_type": "execute_result",
          "data": {
            "text/plain": [
              "21"
            ]
          },
          "metadata": {},
          "execution_count": 5
        }
      ]
    },
    {
      "cell_type": "code",
      "source": [],
      "metadata": {
        "id": "0RiO2OtkbIX5"
      },
      "execution_count": null,
      "outputs": []
    },
    {
      "cell_type": "code",
      "source": [
        "def get_segment_labels(image, model, device):\n",
        "    image = transform(image).to(device)\n",
        "    image = image.unsqueeze(0) # add a batch dimension\n",
        "    outputs = model(image)\n",
        "    return outputs"
      ],
      "metadata": {
        "id": "iFCD30DWGdl-"
      },
      "execution_count": null,
      "outputs": []
    },
    {
      "cell_type": "code",
      "source": [
        "def draw_segmentation_map(outputs):\n",
        "    labels = torch.argmax(outputs.squeeze(), dim=0).detach().cpu().numpy()\n",
        "    red_map = np.zeros_like(labels).astype(np.uint8)\n",
        "    green_map = np.zeros_like(labels).astype(np.uint8)\n",
        "    blue_map = np.zeros_like(labels).astype(np.uint8)\n",
        "    \n",
        "    for label_num in range(0, len(label_map)):\n",
        "        index = labels == label_num\n",
        "        red_map[index] = np.array(label_map)[label_num, 2]\n",
        "        green_map[index] = np.array(label_map)[label_num, 1]\n",
        "        blue_map[index] = np.array(label_map)[label_num, 0]\n",
        "        \n",
        "    segmented_image = np.stack([red_map, green_map, blue_map], axis=2)\n",
        "    return segmented_image"
      ],
      "metadata": {
        "id": "PjPDs-i9GoJm"
      },
      "execution_count": null,
      "outputs": []
    },
    {
      "cell_type": "code",
      "source": [
        "# download or load the model from disk\n",
        "model = torchvision.models.segmentation.fcn_resnet50(pretrained=True)\n",
        "\n",
        "# set computation device\n",
        "device = torch.device('cuda' if torch.cuda.is_available() else 'cpu')\n",
        "# model to eval() model and load onto computation devicce\n",
        "model.eval().to(device)"
      ],
      "metadata": {
        "id": "BeFGCaYKHkEU"
      },
      "execution_count": null,
      "outputs": []
    },
    {
      "cell_type": "code",
      "source": [
        "confmat = ConfusionMatrix(task=\"multiclass\", num_classes=num_classes)"
      ],
      "metadata": {
        "id": "GO3h8OtYHzY8"
      },
      "execution_count": null,
      "outputs": []
    },
    {
      "cell_type": "code",
      "source": [
        "# View the labels imag\n",
        "\n",
        "from google.colab.patches import cv2_imshow\n",
        "mask = cv2.imread('/content/drive/MyDrive/AIP/Assignment_2/PascalVOC/test/Annotations/000392.png')\n",
        "cv2_imshow(mask)"
      ],
      "metadata": {
        "colab": {
          "base_uri": "https://localhost:8080/",
          "height": 349
        },
        "id": "GxoINAE-daWw",
        "outputId": "c6f720e4-e0f4-400d-ce4d-6e1a15d8a6a7"
      },
      "execution_count": null,
      "outputs": [
        {
          "output_type": "display_data",
          "data": {
            "text/plain": [
              "<PIL.Image.Image image mode=RGB size=500x332 at 0x7FA9D7E6F070>"
            ],
            "image/png": "[encoded data removed]"
          },
          "metadata": {}
        }
      ]
    },
    {
      "cell_type": "code",
      "source": [
        "# Color maps \n",
        "\n",
        "def color_map(N=256, normalized=False):\n",
        "    def bitget(byteval, idx):\n",
        "        return ((byteval & (1 << idx)) != 0)\n",
        "\n",
        "    dtype = 'float32' if normalized else 'uint8'\n",
        "    cmap = np.zeros((N, 3), dtype=dtype)\n",
        "    for i in range(N):\n",
        "        r = g = b = 0\n",
        "        c = i\n",
        "        for j in range(8):\n",
        "            r = r | (bitget(c, 0) << 7-j)\n",
        "            g = g | (bitget(c, 1) << 7-j)\n",
        "            b = b | (bitget(c, 2) << 7-j)\n",
        "            c = c >> 3\n",
        "\n",
        "        cmap[i] = np.array([r, g, b])\n",
        "\n",
        "    cmap = cmap/255 if normalized else cmap\n",
        "    return cmap\n",
        "label_map = color_map(21)\n",
        "label_map"
      ],
      "metadata": {
        "colab": {
          "base_uri": "https://localhost:8080/"
        },
        "id": "F17Ejj4SfY1j",
        "outputId": "283fcaf6-48f4-4d2d-8871-e946fc7461a7"
      },
      "execution_count": null,
      "outputs": [
        {
          "output_type": "execute_result",
          "data": {
            "text/plain": [
              "array([[  0,   0,   0],\n",
              "       [128,   0,   0],\n",
              "       [  0, 128,   0],\n",
              "       [128, 128,   0],\n",
              "       [  0,   0, 128],\n",
              "       [128,   0, 128],\n",
              "       [  0, 128, 128],\n",
              "       [128, 128, 128],\n",
              "       [ 64,   0,   0],\n",
              "       [192,   0,   0],\n",
              "       [ 64, 128,   0],\n",
              "       [192, 128,   0],\n",
              "       [ 64,   0, 128],\n",
              "       [192,   0, 128],\n",
              "       [ 64, 128, 128],\n",
              "       [192, 128, 128],\n",
              "       [  0,  64,   0],\n",
              "       [128,  64,   0],\n",
              "       [  0, 192,   0],\n",
              "       [128, 192,   0],\n",
              "       [  0,  64, 128]], dtype=uint8)"
            ]
          },
          "metadata": {},
          "execution_count": 12
        }
      ]
    },
    {
      "cell_type": "code",
      "source": [
        "def color_map_viz():\n",
        "    labels = ['background', 'aeroplane', 'bicycle', 'bird', 'boat', 'bottle', 'bus', 'car', 'cat', 'chair', 'cow', 'diningtable', 'dog', 'horse', 'motorbike', 'person', 'pottedplant', 'sheep', 'sofa', 'train', 'tvmonitor', 'void']\n",
        "    nclasses = 21\n",
        "    row_size = 50\n",
        "    col_size = 500\n",
        "    cmap = color_map()\n",
        "    array = np.empty((row_size*(nclasses+1), col_size, cmap.shape[1]), dtype=cmap.dtype)\n",
        "    for i in range(nclasses):\n",
        "        array[i*row_size:i*row_size+row_size, :] = cmap[i]\n",
        "    array[nclasses*row_size:nclasses*row_size+row_size, :] = cmap[-1]\n",
        "\n",
        "    plt.imshow(array)\n",
        "    plt.yticks([row_size*i+row_size/2 for i in range(nclasses+1)], labels)\n",
        "    plt.xticks([])\n",
        "    plt.show()\n",
        "color_map_viz()"
      ],
      "metadata": {
        "colab": {
          "base_uri": "https://localhost:8080/",
          "height": 252
        },
        "id": "vPn22zYYg8_C",
        "outputId": "e32bf9e0-ae9d-4ab6-dd15-a17cde261113"
      },
      "execution_count": null,
      "outputs": [
        {
          "output_type": "display_data",
          "data": {
            "text/plain": [
              "<Figure size 432x288 with 1 Axes>"
            ],
            "image/png": "[encoded data removed]"
          },
          "metadata": {
            "needs_background": "light"
          }
        }
      ]
    },
    {
      "cell_type": "code",
      "source": [
        "def colormap2label():\n",
        "    colormap2label = torch.zeros(256 ** 3, dtype=torch.long)\n",
        "    for i, colormap in enumerate(label_map):\n",
        "        colormap2label[\n",
        "            (colormap[0] * 256 + colormap[1]) * 256 + colormap[2]] = i\n",
        "    return colormap2label\n",
        "\n",
        "    \n",
        "def voc_label_indices(colormap, colormap2label):\n",
        "    colormap = colormap.permute(1, 2, 0).numpy().astype('int32')\n",
        "    idx = ((colormap[:, :, 0] * 256 + colormap[:, :, 1]) * 256\n",
        "           + colormap[:, :, 2])\n",
        "    return colormap2label[idx]\n",
        "c2l = colormap2label()"
      ],
      "metadata": {
        "id": "DwIo5RZYRqbT"
      },
      "execution_count": null,
      "outputs": []
    },
    {
      "cell_type": "code",
      "source": [
        "path = '/content/drive/MyDrive/AIP/Assignment_2/PascalVOC/test/Annotations/000504.png'\n",
        "mode = torchvision.io.image.ImageReadMode.RGB\n",
        "mask = torchvision.io.read_image(path,mode)\n",
        "plt.imshow(mask.permute(1,2,0))"
      ],
      "metadata": {
        "colab": {
          "base_uri": "https://localhost:8080/",
          "height": 286
        },
        "id": "IB5yDiw9ZP7C",
        "outputId": "197aa3b4-6c44-4e0c-8647-ab64c80a5cb7"
      },
      "execution_count": null,
      "outputs": [
        {
          "output_type": "execute_result",
          "data": {
            "text/plain": [
              "<matplotlib.image.AxesImage at 0x7fa9cfca1b50>"
            ]
          },
          "metadata": {},
          "execution_count": 67
        },
        {
          "output_type": "display_data",
          "data": {
            "text/plain": [
              "<Figure size 432x288 with 1 Axes>"
            ],
            "image/png": "[encoded data removed]"
          },
          "metadata": {
            "needs_background": "light"
          }
        }
      ]
    },
    {
      "cell_type": "code",
      "source": [
        "# return pixel_wise accuracy and mean IOU\n",
        "\n",
        "def accuracy(target,pred):\n",
        "  confmat = ConfusionMatrix(task=\"multiclass\", num_classes=num_classes)\n",
        "  mat = confmat(pred, target)\n",
        "  #print(mat)\n",
        "  pixel_acc = torch.trace(mat).item()/torch.sum(mat).item()\n",
        "  iou = 0\n",
        "\n",
        "  count = 0\n",
        "  for i in range(21):\n",
        "    intersection = mat[i,i]\n",
        "    union = sum(mat[i,:])+sum(mat[:,i])-mat[i,i]\n",
        "    if union==0:\n",
        "      continue\n",
        "    count+=1\n",
        "    iou+=intersection/union\n",
        "\n",
        "  iou/=count\n",
        "\n",
        "  return pixel_acc,iou"
      ],
      "metadata": {
        "id": "oaR4qZjZSG1p"
      },
      "execution_count": null,
      "outputs": []
    },
    {
      "cell_type": "code",
      "source": [
        "# passing single image\n",
        "\n",
        "def segmented(img_path):\n",
        "  #img = cv2.imread(img_path)\n",
        "  img = Image.open(img_path)\n",
        "  img = img.convert(\"RGB\")\n",
        "  output = get_segment_labels(img,model,'cpu')\n",
        "  return draw_segmentation_map(output['out'])\n",
        "img_path = '/content/drive/MyDrive/AIP/Assignment_2/PascalVOC/test/Images/000068.jpg'\n",
        "seg = segmented(img_path)\n",
        "mask = cv2.imread('/content/drive/MyDrive/AIP/Assignment_2/PascalVOC/test/Annotations/000068.png')"
      ],
      "metadata": {
        "id": "9v6treuW6ONs"
      },
      "execution_count": null,
      "outputs": []
    },
    {
      "cell_type": "code",
      "source": [
        "plt.imshow(seg)"
      ],
      "metadata": {
        "colab": {
          "base_uri": "https://localhost:8080/",
          "height": 286
        },
        "id": "L99cCAQY8BUj",
        "outputId": "2a6e0748-01e8-43ae-fb36-c1e2c2d75585"
      },
      "execution_count": null,
      "outputs": [
        {
          "output_type": "execute_result",
          "data": {
            "text/plain": [
              "<matplotlib.image.AxesImage at 0x7fa9ce9ef8b0>"
            ]
          },
          "metadata": {},
          "execution_count": 76
        },
        {
          "output_type": "display_data",
          "data": {
            "text/plain": [
              "<Figure size 432x288 with 1 Axes>"
            ],
            "image/png": "[encoded data removed]"
          },
          "metadata": {
            "needs_background": "light"
          }
        }
      ]
    },
    {
      "cell_type": "code",
      "source": [
        "plt.imshow(mask)"
      ],
      "metadata": {
        "colab": {
          "base_uri": "https://localhost:8080/",
          "height": 286
        },
        "id": "1lmGYS_v8J6I",
        "outputId": "d90eac6d-1cee-4395-9096-a479dbf54a93"
      },
      "execution_count": null,
      "outputs": [
        {
          "output_type": "execute_result",
          "data": {
            "text/plain": [
              "<matplotlib.image.AxesImage at 0x7fa9ce940c10>"
            ]
          },
          "metadata": {},
          "execution_count": 77
        },
        {
          "output_type": "display_data",
          "data": {
            "text/plain": [
              "<Figure size 432x288 with 1 Axes>"
            ],
            "image/png": "[encoded data removed]"
          },
          "metadata": {
            "needs_background": "light"
          }
        }
      ]
    },
    {
      "cell_type": "code",
      "source": [
        "# Getting the predicted annotations of test dataset\n",
        "\n",
        "folder_path = '/content/drive/MyDrive/AIP/Assignment_2/PascalVOC/test'\n",
        "mask_paths = glob.glob(os.path.join(folder_path,'Annotations','*.png'))\n",
        "mode = torchvision.io.image.ImageReadMode.RGB\n",
        "\n",
        "p_a = []\n",
        "iou = []\n",
        "for mask_path in mask_paths:\n",
        "  img_path = os.path.join(folder_path,'Images',os.path.basename(mask_path).replace('png','jpg'))\n",
        "  mask = torchvision.io.read_image(mask_path,mode)\n",
        "  img = Image.open(img_path)\n",
        "  img = img.convert(\"RGB\")\n",
        "\n",
        "  output = get_segment_labels(img,model,'cpu')\n",
        "  labels = torch.argmax(output['out'].squeeze(), dim=0).detach()\n",
        "  \n",
        "  y = voc_label_indices(mask, colormap2label())\n",
        "  #print(y.shape,labels.shape)\n",
        "  pix_acc,miou = accuracy(y,labels)\n",
        "  print(pix_acc,miou)\n",
        "  p_a.append(pix_acc)\n",
        "  iou.append(miou)\n"
      ],
      "metadata": {
        "colab": {
          "base_uri": "https://localhost:8080/"
        },
        "id": "7IHA0HS4_9hB",
        "outputId": "d96e4fc5-2d40-4693-b2fc-3afa129e8fc6"
      },
      "execution_count": null,
      "outputs": [
        {
          "output_type": "stream",
          "name": "stdout",
          "text": [
            "0.7049973333333334 tensor(0.1777)\n",
            "0.9533933933933934 tensor(0.7056)\n",
            "0.9749973333333334 tensor(0.9159)\n",
            "0.9554773333333333 tensor(0.7051)\n",
            "0.981696 tensor(0.9365)\n",
            "0.9775315315315315 tensor(0.6261)\n",
            "0.8046351084812623 tensor(0.4520)\n",
            "0.955232 tensor(0.4952)\n",
            "0.7794550898203593 tensor(0.4678)\n",
            "0.8946786786786787 tensor(0.4691)\n",
            "0.9721741741741742 tensor(0.5649)\n",
            "0.9440586666666667 tensor(0.5935)\n",
            "0.9653222730739893 tensor(0.8241)\n",
            "0.9541382833787466 tensor(0.8086)\n",
            "0.9924106666666667 tensor(0.3503)\n",
            "0.9764693333333333 tensor(0.9530)\n",
            "0.9731525157232704 tensor(0.8613)\n",
            "0.9639578408195429 tensor(0.8044)\n",
            "0.966512 tensor(0.8923)\n",
            "0.9769279538904899 tensor(0.8612)\n",
            "0.990592 tensor(0.9202)\n",
            "0.9157 tensor(0.5951)\n",
            "0.9578149466192171 tensor(0.4050)\n",
            "0.9546744186046512 tensor(0.8880)\n",
            "0.9494277286135693 tensor(0.9029)\n",
            "0.9836857142857143 tensor(0.9637)\n",
            "0.616336231884058 tensor(0.2967)\n",
            "0.6920540540540541 tensor(0.4116)\n",
            "0.860784 tensor(0.6317)\n",
            "0.9721493333333333 tensor(0.6254)\n",
            "0.8938453333333334 tensor(0.6234)\n",
            "0.8984684684684685 tensor(0.8152)\n",
            "0.9342453333333334 tensor(0.8104)\n",
            "0.9588468468468468 tensor(0.5925)\n",
            "0.8930570570570571 tensor(0.8370)\n",
            "0.9993546666666666 tensor(0.4997)\n",
            "0.948997641509434 tensor(0.7641)\n",
            "0.96512 tensor(0.8537)\n",
            "0.8491586538461539 tensor(0.6680)\n",
            "0.9814753086419753 tensor(0.5209)\n",
            "0.8504324324324324 tensor(0.7583)\n",
            "0.9836 tensor(0.6112)\n",
            "0.940048 tensor(0.7376)\n",
            "0.7035975975975975 tensor(0.5374)\n",
            "0.978592 tensor(0.8139)\n",
            "0.8565653333333333 tensor(0.5075)\n",
            "0.9615015015015015 tensor(0.8850)\n",
            "0.8829493333333334 tensor(0.5912)\n",
            "0.9015253456221198 tensor(0.3587)\n",
            "0.9907747747747748 tensor(0.6192)\n",
            "0.7961973333333333 tensor(0.4932)\n",
            "0.9711917808219178 tensor(0.9406)\n",
            "0.983081081081081 tensor(0.9525)\n",
            "0.5798974358974359 tensor(0.3665)\n",
            "0.7574652406417113 tensor(0.1778)\n",
            "0.8991413333333333 tensor(0.4919)\n",
            "0.9073033033033033 tensor(0.5080)\n",
            "0.9215093333333333 tensor(0.7518)\n",
            "0.966416 tensor(0.7527)\n",
            "0.9350695652173913 tensor(0.5654)\n",
            "0.8429703504043127 tensor(0.3489)\n",
            "0.9375093333333333 tensor(0.7686)\n",
            "0.7583421052631579 tensor(0.3132)\n",
            "0.9548708708708709 tensor(0.8327)\n",
            "0.9335338753387534 tensor(0.3350)\n",
            "0.8063363363363364 tensor(0.4911)\n",
            "0.9301982378854625 tensor(0.5770)\n",
            "0.971003003003003 tensor(0.6886)\n",
            "0.682848 tensor(0.3126)\n",
            "0.6907893333333334 tensor(0.4596)\n",
            "0.6660548780487805 tensor(0.3297)\n",
            "0.9673297872340425 tensor(0.6231)\n",
            "0.986096 tensor(0.6377)\n",
            "0.8886293333333334 tensor(0.6003)\n",
            "0.987584 tensor(0.9732)\n",
            "0.98986875 tensor(0.6001)\n",
            "0.8573013333333334 tensor(0.5062)\n",
            "0.9086186666666667 tensor(0.2933)\n",
            "0.85384 tensor(0.6023)\n",
            "0.784128 tensor(0.3096)\n",
            "0.906064 tensor(0.4253)\n",
            "0.559888 tensor(0.3944)\n",
            "0.973081081081081 tensor(0.9304)\n",
            "0.992624 tensor(0.9129)\n",
            "0.7361561561561561 tensor(0.4899)\n",
            "0.9535988700564971 tensor(0.6011)\n",
            "0.9250695187165775 tensor(0.6057)\n",
            "0.9854774774774775 tensor(0.6434)\n",
            "0.9935449101796408 tensor(0.8608)\n",
            "0.9519466666666667 tensor(0.7937)\n",
            "0.9744533333333333 tensor(0.9084)\n",
            "0.8325226666666666 tensor(0.1683)\n",
            "0.9728468468468469 tensor(0.5176)\n",
            "0.89990273556231 tensor(0.8068)\n",
            "0.9954726688102894 tensor(0.9368)\n",
            "0.9908664987405541 tensor(0.8195)\n",
            "0.9611796116504855 tensor(0.7564)\n",
            "0.977343949044586 tensor(0.4220)\n",
            "0.9496204819277109 tensor(0.5693)\n",
            "0.8576853333333333 tensor(0.7877)\n",
            "0.9848373333333333 tensor(0.6342)\n",
            "0.6013139013452915 tensor(0.2026)\n",
            "0.6473066666666667 tensor(0.2210)\n",
            "0.7938613333333333 tensor(0.3717)\n",
            "0.953472 tensor(0.7978)\n",
            "0.8406102719033233 tensor(0.3513)\n",
            "0.9744684684684685 tensor(0.9433)\n",
            "0.9555466666666667 tensor(0.5822)\n",
            "0.8505493333333334 tensor(0.7691)\n",
            "0.9617543859649123 tensor(0.8944)\n",
            "0.9027306666666667 tensor(0.5955)\n",
            "0.9751044776119403 tensor(0.6279)\n",
            "0.8886933333333333 tensor(0.4882)\n",
            "0.9782186666666667 tensor(0.8084)\n",
            "0.8874540540540541 tensor(0.3600)\n",
            "0.94632 tensor(0.6655)\n",
            "0.862734375 tensor(0.4871)\n",
            "0.9524373333333334 tensor(0.6609)\n",
            "0.8744426666666667 tensor(0.3727)\n",
            "0.9335626666666667 tensor(0.4421)\n",
            "0.9085546666666666 tensor(0.7732)\n",
            "0.9436373333333333 tensor(0.5060)\n",
            "0.9078554216867469 tensor(0.4476)\n",
            "0.9793592814371257 tensor(0.9354)\n",
            "0.980624 tensor(0.9423)\n",
            "0.8948816705336426 tensor(0.5416)\n",
            "0.6707987987987988 tensor(0.3100)\n",
            "0.9749066666666667 tensor(0.6062)\n",
            "0.990128 tensor(0.9352)\n",
            "0.9810125 tensor(0.9539)\n",
            "0.9286946107784431 tensor(0.4419)\n",
            "0.9534285714285714 tensor(0.6933)\n",
            "0.8865117647058823 tensor(0.4471)\n",
            "0.997104 tensor(0.9405)\n",
            "0.9448948948948949 tensor(0.4515)\n",
            "0.9388493975903615 tensor(0.8721)\n",
            "0.9672455089820359 tensor(0.9117)\n",
            "0.9795991471215352 tensor(0.6413)\n",
            "0.9682342342342343 tensor(0.9362)\n",
            "0.9601692708333334 tensor(0.9248)\n",
            "0.977643247284584 tensor(0.5469)\n",
            "0.9951092896174863 tensor(0.5132)\n",
            "0.989104 tensor(0.5837)\n",
            "0.99704 tensor(0.4985)\n",
            "0.9627466666666666 tensor(0.9233)\n",
            "0.8400693333333333 tensor(0.3703)\n",
            "0.9900373333333333 tensor(0.9252)\n",
            "0.9222582582582582 tensor(0.6872)\n",
            "0.7166773333333334 tensor(0.4548)\n",
            "0.9355735735735736 tensor(0.6839)\n",
            "0.9461976047904191 tensor(0.6067)\n",
            "0.9452053333333333 tensor(0.8937)\n",
            "0.7301653333333333 tensor(0.5931)\n",
            "0.83048 tensor(0.5817)\n",
            "0.9274294294294294 tensor(0.2951)\n",
            "0.966245508982036 tensor(0.8007)\n",
            "0.9699411764705882 tensor(0.9409)\n",
            "0.9392213333333334 tensor(0.7264)\n",
            "0.9865546666666667 tensor(0.8393)\n",
            "0.9543786666666667 tensor(0.5293)\n",
            "0.9824533333333333 tensor(0.7748)\n",
            "0.9907306666666666 tensor(0.9207)\n",
            "0.8921653333333334 tensor(0.4621)\n",
            "0.9714986666666666 tensor(0.3317)\n",
            "0.9726773333333333 tensor(0.6314)\n",
            "0.7333739495798319 tensor(0.3737)\n",
            "0.908288 tensor(0.6735)\n",
            "0.9648795180722891 tensor(0.6778)\n",
            "0.978608 tensor(0.7153)\n",
            "0.9801254612546125 tensor(0.9286)\n",
            "0.9908053333333333 tensor(0.8605)\n",
            "0.9901381381381381 tensor(0.7768)\n",
            "0.860048 tensor(0.6814)\n",
            "0.9048426666666667 tensor(0.6151)\n",
            "0.941136 tensor(0.6188)\n",
            "0.9920654545454546 tensor(0.7767)\n",
            "0.9620507042253521 tensor(0.8984)\n",
            "0.8445866666666667 tensor(0.5322)\n",
            "0.885904 tensor(0.5633)\n",
            "0.9547893333333334 tensor(0.3768)\n",
            "0.9636213333333333 tensor(0.5505)\n",
            "0.9574844192634561 tensor(0.6061)\n",
            "0.95608 tensor(0.6198)\n",
            "0.8403786666666667 tensor(0.2954)\n",
            "0.9801137724550898 tensor(0.7962)\n",
            "0.7575786666666666 tensor(0.2880)\n",
            "0.9571171171171171 tensor(0.8995)\n",
            "0.9240853333333333 tensor(0.5784)\n",
            "0.95192 tensor(0.6689)\n",
            "0.7295733333333333 tensor(0.3555)\n",
            "0.9898293333333333 tensor(0.6495)\n",
            "0.976304 tensor(0.9198)\n",
            "0.9965825825825826 tensor(0.8737)\n",
            "0.965936 tensor(0.7731)\n",
            "0.980288 tensor(0.5966)\n",
            "0.9742133333333334 tensor(0.9437)\n",
            "0.9744744744744744 tensor(0.8386)\n",
            "0.9534613333333334 tensor(0.7793)\n",
            "0.8897736625514403 tensor(0.3506)\n",
            "0.9516766169154229 tensor(0.6146)\n",
            "0.9924586666666667 tensor(0.5988)\n",
            "0.9308190476190477 tensor(0.8703)\n",
            "0.9944645669291339 tensor(0.7065)\n",
            "0.965184 tensor(0.4348)\n",
            "0.8439093333333333 tensor(0.3020)\n",
            "0.9820533333333333 tensor(0.4850)\n",
            "0.9368383233532934 tensor(0.8784)\n",
            "0.9939253333333333 tensor(0.4291)\n",
            "0.9570026666666667 tensor(0.6071)\n"
          ]
        }
      ]
    },
    {
      "cell_type": "code",
      "source": [
        "import pandas as pd\n",
        "df = pd.DataFrame(list(zip(p_a, iou)),\n",
        "               columns =['Pixel_Acc', 'IOU'])\n",
        "df.to_csv('/content/drive/MyDrive/AIP/Assignment_2/PascalVOC/Resnet_50_stat.csv')"
      ],
      "metadata": {
        "id": "akiDbQAToF3P"
      },
      "execution_count": null,
      "outputs": []
    },
    {
      "cell_type": "code",
      "source": [
        "np.mean(p_a)"
      ],
      "metadata": {
        "colab": {
          "base_uri": "https://localhost:8080/"
        },
        "id": "w78zyRDJoF7L",
        "outputId": "e1e8344e-6a1d-418f-f101-f206c48086af"
      },
      "execution_count": null,
      "outputs": [
        {
          "output_type": "execute_result",
          "data": {
            "text/plain": [
              "0.9163349391005375"
            ]
          },
          "metadata": {},
          "execution_count": 106
        }
      ]
    },
    {
      "cell_type": "code",
      "source": [
        "np.mean(iou)"
      ],
      "metadata": {
        "colab": {
          "base_uri": "https://localhost:8080/"
        },
        "id": "OP6vWlbfoF-T",
        "outputId": "9df7af1d-56f3-4779-9ac4-bc1ae12e06a1"
      },
      "execution_count": null,
      "outputs": [
        {
          "output_type": "execute_result",
          "data": {
            "text/plain": [
              "0.64002615"
            ]
          },
          "metadata": {},
          "execution_count": 107
        }
      ]
    },
    {
      "cell_type": "code",
      "source": [],
      "metadata": {
        "id": "drwxBTomoGB2"
      },
      "execution_count": null,
      "outputs": []
    },
    {
      "cell_type": "code",
      "source": [],
      "metadata": {
        "id": "7F4bWTVCoGEq"
      },
      "execution_count": null,
      "outputs": []
    }
  ]
}