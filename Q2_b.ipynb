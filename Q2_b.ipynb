{
  "cells": [
    {
      "cell_type": "code",
      "execution_count": 1,
      "metadata": {
        "colab": {
          "base_uri": "https://localhost:8080/"
        },
        "id": "XJTIUsXyGpWT",
        "outputId": "21cedc11-739b-48eb-898c-3780a2b9d9fb"
      },
      "outputs": [
        {
          "output_type": "stream",
          "name": "stdout",
          "text": [
            "Looking in indexes: https://pypi.org/simple, https://us-python.pkg.dev/colab-wheels/public/simple/\n",
            "Collecting torchmetrics\n",
            "  Downloading torchmetrics-0.11.1-py3-none-any.whl (517 kB)\n",
            "\u001b[2K     \u001b[90m━━━━━━━━━━━━━━━━━━━━━━━━━━━━━━━━━━━━━━\u001b[0m \u001b[32m517.2/517.2 KB\u001b[0m \u001b[31m24.2 MB/s\u001b[0m eta \u001b[36m0:00:00\u001b[0m\n",
            "\u001b[?25hRequirement already satisfied: numpy>=1.17.2 in /usr/local/lib/python3.8/dist-packages (from torchmetrics) (1.22.4)\n",
            "Requirement already satisfied: packaging in /usr/local/lib/python3.8/dist-packages (from torchmetrics) (23.0)\n",
            "Requirement already satisfied: typing-extensions in /usr/local/lib/python3.8/dist-packages (from torchmetrics) (4.5.0)\n",
            "Requirement already satisfied: torch>=1.8.1 in /usr/local/lib/python3.8/dist-packages (from torchmetrics) (1.13.1+cu116)\n",
            "Installing collected packages: torchmetrics\n",
            "Successfully installed torchmetrics-0.11.1\n"
          ]
        }
      ],
      "source": [
        "# Loading the modules\n",
        "\n",
        "from __future__ import print_function, division\n",
        "\n",
        "import torch\n",
        "import torch.nn as nn\n",
        "import torch.optim as optim\n",
        "from torch.optim import lr_scheduler\n",
        "import torch.backends.cudnn as cudnn\n",
        "import numpy as np\n",
        "import torchvision\n",
        "from torch.utils.data import random_split\n",
        "from torchvision import datasets, models, transforms\n",
        "import matplotlib.pyplot as plt\n",
        "import time\n",
        "from PIL import Image\n",
        "import os\n",
        "import cv2\n",
        "import copy\n",
        "import glob\n",
        "!pip install torchmetrics\n",
        "from torchmetrics import ConfusionMatrix\n",
        "cudnn.benchmark = True\n",
        "plt.ion()   # interactive mode"
      ]
    },
    {
      "cell_type": "code",
      "execution_count": 2,
      "metadata": {
        "colab": {
          "base_uri": "https://localhost:8080/"
        },
        "id": "vaQLjJrLfnJt",
        "outputId": "325d7c90-871e-4cc0-d09a-f9a4510718da"
      },
      "outputs": [
        {
          "output_type": "execute_result",
          "data": {
            "text/plain": [
              "device(type='cuda', index=0)"
            ]
          },
          "metadata": {},
          "execution_count": 2
        }
      ],
      "source": [
        "device = torch.device(\"cuda:0\" if torch.cuda.is_available() else \"cpu\")\n",
        "device"
      ]
    },
    {
      "cell_type": "code",
      "execution_count": 130,
      "metadata": {
        "id": "u4512Sn0ClrM",
        "colab": {
          "base_uri": "https://localhost:8080/"
        },
        "outputId": "c72aa913-7c99-4abd-e2e5-68c7e6ea4704"
      },
      "outputs": [
        {
          "output_type": "execute_result",
          "data": {
            "text/plain": [
              "array([[  0,   0,   0],\n",
              "       [128,   0,   0],\n",
              "       [  0, 128,   0],\n",
              "       [128, 128,   0],\n",
              "       [  0,   0, 128],\n",
              "       [128,   0, 128],\n",
              "       [  0, 128, 128],\n",
              "       [128, 128, 128],\n",
              "       [ 64,   0,   0],\n",
              "       [192,   0,   0],\n",
              "       [ 64, 128,   0],\n",
              "       [192, 128,   0],\n",
              "       [ 64,   0, 128],\n",
              "       [192,   0, 128],\n",
              "       [ 64, 128, 128],\n",
              "       [192, 128, 128],\n",
              "       [  0,  64,   0],\n",
              "       [128,  64,   0],\n",
              "       [  0, 192,   0],\n",
              "       [128, 192,   0],\n",
              "       [  0,  64, 128]], dtype=uint8)"
            ]
          },
          "metadata": {},
          "execution_count": 130
        }
      ],
      "source": [
        "# Label_map\n",
        "def color_map(N=256, normalized=False):\n",
        "    def bitget(byteval, idx):\n",
        "        return ((byteval & (1 << idx)) != 0)\n",
        "\n",
        "    dtype = 'float32' if normalized else 'uint8'\n",
        "    cmap = np.zeros((N, 3), dtype=dtype)\n",
        "    for i in range(N):\n",
        "        r = g = b = 0\n",
        "        c = i\n",
        "        for j in range(8):\n",
        "            r = r | (bitget(c, 0) << 7-j)\n",
        "            g = g | (bitget(c, 1) << 7-j)\n",
        "            b = b | (bitget(c, 2) << 7-j)\n",
        "            c = c >> 3\n",
        "\n",
        "        cmap[i] = np.array([r, g, b])\n",
        "\n",
        "    cmap = cmap/255 if normalized else cmap\n",
        "    return cmap\n",
        "label_map = color_map(21)\n",
        "label_map"
      ]
    },
    {
      "cell_type": "code",
      "execution_count": 4,
      "metadata": {
        "id": "sNRhC0KHC00K"
      },
      "outputs": [],
      "source": [
        "class_names = ['__background__', 'aeroplane', 'bicycle', 'bird', 'boat', 'bottle', 'bus',\n",
        " 'car', 'cat', 'chair', 'cow', 'diningtable', 'dog', 'horse', 'motorbike',\n",
        " 'person', 'pottedplant', 'sheep', 'sofa', 'train', 'tvmonitor']"
      ]
    },
    {
      "cell_type": "code",
      "execution_count": 54,
      "metadata": {
        "id": "uQlW_EpYMVVZ"
      },
      "outputs": [],
      "source": [
        "# Transforms for images and labels\n",
        "import torchvision.transforms as T\n",
        "transform = {\"image\" : \n",
        "             T.Compose([T.Resize(256),\n",
        "                        T.CenterCrop(224),\n",
        "                        T.ToTensor(),\n",
        "                        T.Normalize(mean=[0.485, 0.456, 0.406],\n",
        "                                    std=[0.229, 0.224, 0.225])\n",
        "                      ]),\n",
        "             \"label\" : \n",
        "             T.Compose([T.Resize(256, T.InterpolationMode.NEAREST),\n",
        "                        T.CenterCrop(224),\n",
        "                        T.Lambda(lambda image: torch.tensor(np.array(image)))\n",
        "                      ])\n",
        "}"
      ]
    },
    {
      "cell_type": "code",
      "execution_count": 63,
      "metadata": {
        "id": "TidYjilf8zVk"
      },
      "outputs": [],
      "source": [
        "# Read the pascal voc dataset stored at \"folder_path\"\n",
        "def read_voc_images(folder_path):\n",
        "    mask_paths = glob.glob(os.path.join(folder_path,'Annotations','*.png'))\n",
        "    image_paths = []\n",
        "    for mask_path in mask_paths:\n",
        "      image_paths.append(os.path.join(folder_path,'Images',os.path.basename(mask_path).replace('png','jpg'))) \n",
        "    features, labels = [], []\n",
        "    for i in range(len(mask_paths)):\n",
        "        img = Image.open(image_paths[i])\n",
        "        img = img.convert(\"RGB\")\n",
        "        label = Image.open(mask_paths[i])\n",
        "        label = label.convert(\"RGB\")\n",
        "\n",
        "        features.append(transform['image'](img))\n",
        "        labels.append(transform['label'](label))\n",
        "    return features, labels"
      ]
    },
    {
      "cell_type": "code",
      "execution_count": 65,
      "metadata": {
        "id": "nPx2uI35-McL"
      },
      "outputs": [],
      "source": [
        "# Custom dataset for given data\n",
        "class VOCSegDataset(torch.utils.data.Dataset):\n",
        "    def __init__(self, voc_dir):\n",
        "        features, labels = read_voc_images(voc_dir)\n",
        "        self.features = features\n",
        "        self.labels = labels\n",
        "        print('read ' + str(len(self.features)) + ' examples')\n",
        "\n",
        "    def __getitem__(self, idx):\n",
        "        image = self.features[idx]\n",
        "        label = self.labels[idx]\n",
        "        return image.clone().detach(), label.clone().detach()\n",
        "\n",
        "    def __len__(self):\n",
        "        return len(self.features)"
      ]
    },
    {
      "cell_type": "code",
      "execution_count": 66,
      "metadata": {
        "colab": {
          "base_uri": "https://localhost:8080/"
        },
        "id": "7q6u3IbuBZZ1",
        "outputId": "9e8675ee-78f5-4f0a-a9fe-c0451ac4b661"
      },
      "outputs": [
        {
          "output_type": "stream",
          "name": "stdout",
          "text": [
            "read 422 examples\n",
            "read 210 examples\n"
          ]
        }
      ],
      "source": [
        "# Loading the dataset\n",
        "train_path = '/content/drive/MyDrive/AIP/Assignment_2/PascalVOC/trainval'\n",
        "test_path = '/content/drive/MyDrive/AIP/Assignment_2/PascalVOC/test'\n",
        "train_val_data = VOCSegDataset(train_path)\n",
        "test_data = VOCSegDataset(test_path)\n",
        "train_data,val_data = random_split(train_val_data,[0.85,0.15], generator=torch.Generator().manual_seed(42))"
      ]
    },
    {
      "cell_type": "code",
      "execution_count": 67,
      "metadata": {
        "colab": {
          "base_uri": "https://localhost:8080/"
        },
        "id": "TFy9u6UaKdEz",
        "outputId": "5d62fa07-2fa0-422e-ee1b-bcb5f0ceb54d"
      },
      "outputs": [
        {
          "output_type": "execute_result",
          "data": {
            "text/plain": [
              "{'train': 359, 'test': 210, 'val': 63}"
            ]
          },
          "metadata": {},
          "execution_count": 67
        }
      ],
      "source": [
        "data_sizes = {'train' : len(train_data), 'test' : len(test_data),'val' : len(val_data)}\n",
        "data_sizes"
      ]
    },
    {
      "cell_type": "code",
      "execution_count": 68,
      "metadata": {
        "colab": {
          "base_uri": "https://localhost:8080/"
        },
        "id": "oGD7ck8GC_KA",
        "outputId": "a653999c-3c4f-4134-deb1-badf1a12ad34"
      },
      "outputs": [
        {
          "output_type": "stream",
          "name": "stderr",
          "text": [
            "/usr/local/lib/python3.8/dist-packages/torch/utils/data/dataloader.py:554: UserWarning: This DataLoader will create 4 worker processes in total. Our suggested max number of worker in current system is 2, which is smaller than what this DataLoader is going to create. Please be aware that excessive worker creation might get DataLoader running slow or even freeze, lower the worker number to avoid potential slowness/freeze if necessary.\n",
            "  warnings.warn(_create_warning_msg(\n"
          ]
        }
      ],
      "source": [
        "# Creating dataloaders\n",
        "batch_size = 32\n",
        "train_iter = torch.utils.data.DataLoader(train_data, batch_size, shuffle=True,\n",
        "                                    drop_last=True,\n",
        "                                    num_workers=4)\n",
        "\n",
        "val_iter = torch.utils.data.DataLoader(val_data, batch_size, shuffle=True,\n",
        "                                    drop_last=True,\n",
        "                                    num_workers=4)\n",
        "test_iter = torch.utils.data.DataLoader(test_data, batch_size, shuffle=True,\n",
        "                                    drop_last=True,\n",
        "                                    num_workers=4)"
      ]
    },
    {
      "cell_type": "code",
      "execution_count": 69,
      "metadata": {
        "colab": {
          "base_uri": "https://localhost:8080/"
        },
        "id": "v6K6XSDZDZJv",
        "outputId": "35ad6615-783e-49f0-e4c9-b88a22cea240"
      },
      "outputs": [
        {
          "output_type": "stream",
          "name": "stdout",
          "text": [
            "torch.Size([32, 3, 224, 224])\n",
            "torch.Size([32, 224, 224, 3])\n"
          ]
        }
      ],
      "source": [
        "images,labels = next(iter(train_iter))\n",
        "img = images[0]\n",
        "print(images.shape)\n",
        "print(labels.shape)"
      ]
    },
    {
      "cell_type": "code",
      "execution_count": 111,
      "metadata": {
        "id": "rRB9YrtDFgEC"
      },
      "outputs": [],
      "source": [
        "# Converting given annotated label to corresponding index values\n",
        "def label_to_index(annotations):\n",
        "  ann = np.array(annotations.cpu())\n",
        "  b = ann.shape[0]\n",
        "  class_index = np.zeros((b, 224, 224))\n",
        "  for i in range(len(label_map)):\n",
        "    class_index = np.where((ann == label_map[i]).all(axis=-1), i, 0) #-1\n",
        "  return torch.Tensor(class_index).long()"
      ]
    },
    {
      "cell_type": "code",
      "source": [
        "# Converts the indexes into corresponding label value\n",
        "def draw_segmentation_map(outputs):\n",
        "  labels = torch.argmax(outputs.squeeze(), dim=1).detach().cpu().numpy()\n",
        "  red_map = np.zeros_like(labels).astype(np.uint8)\n",
        "  green_map = np.zeros_like(labels).astype(np.uint8)\n",
        "  blue_map = np.zeros_like(labels).astype(np.uint8)\n",
        "  \n",
        "  for label_num in range(0, len(label_map)):\n",
        "      index = labels == label_num\n",
        "      red_map[index] = np.array(label_map)[label_num, 0]\n",
        "      green_map[index] = np.array(label_map)[label_num, 1]\n",
        "      blue_map[index] = np.array(label_map)[label_num, 2]\n",
        "      \n",
        "  segmented_image = np.stack([red_map, green_map, blue_map], axis=3)\n",
        "  return torch.Tensor(segmented_image).to(device)"
      ],
      "metadata": {
        "id": "BjJ7AW1it4hv"
      },
      "execution_count": 80,
      "outputs": []
    },
    {
      "cell_type": "code",
      "execution_count": 107,
      "metadata": {
        "id": "-luFr5QgMdph"
      },
      "outputs": [],
      "source": [
        "import torch.nn.functional as F\n",
        "\n",
        "class FCN_MobileNetV2(nn.Module):\n",
        "  def __init__(self, num_classes=21):\n",
        "    super(FCN_MobileNetV2, self).__init__()\n",
        "\n",
        "    self.net = models.mobilenet_v2(weights=\"IMAGENET1K_V1\").features\n",
        "\n",
        "    for param in self.net.parameters():\n",
        "        param.requires_grad = False\n",
        "\n",
        "    self.d4 = nn.Conv2d(192, 96, kernel_size=1)\n",
        "    self.d3 = nn.Conv2d(56, 32, kernel_size=1)\n",
        "    self.d2 = nn.Conv2d(40, 16, kernel_size=1)\n",
        "    self.d1 = nn.Conv2d(45, num_classes, kernel_size=1)\n",
        "\n",
        "    self.up4 = nn.ConvTranspose2d(1280, 96, kernel_size=4, stride=2, padding=1)\n",
        "    self.up3 = nn.ConvTranspose2d(96, 24, kernel_size=4, stride=2, padding=1)\n",
        "    self.up2 = nn.ConvTranspose2d(32, 16, kernel_size=4, stride=2, padding=1)\n",
        "    self.up1 = nn.ConvTranspose2d(16, num_classes, kernel_size=4, stride=2, padding=1)\n",
        "\n",
        "    self.softmax = nn.Softmax(dim=1)\n",
        "\n",
        "  def forward(self, x):\n",
        "    x1 = self.net[:4](x)\n",
        "    x2 = self.net[4:7](x1)\n",
        "    x3 = self.net[7:14](x2)\n",
        "    x4 = self.net[14:19](x3)\n",
        "\n",
        "    x = self.up4(x4)\n",
        "    x = torch.cat((x, x3), dim=1)\n",
        "\n",
        "    x = self.d4(x)\n",
        "    x = self.up3(x)\n",
        "\n",
        "    x = torch.cat((x, x2), dim=1) \n",
        "    x = self.d3(x)\n",
        "\n",
        "    x = self.up2(x)\n",
        "    x = torch.cat((x, x1), dim=1)\n",
        "    x = self.d2(x)\n",
        "\n",
        "    x = self.up1(x)\n",
        "    x = torch.cat((x, F.interpolate(x1, size=x.size()[2:], mode='bilinear', align_corners=False)), dim=1)\n",
        "    x = self.d1(x)\n",
        "    x = F.interpolate(x, size=[224,224], mode='bilinear', align_corners=False)\n",
        "    x = self.softmax(x)\n",
        "\n",
        "    return x"
      ]
    },
    {
      "cell_type": "code",
      "source": [],
      "metadata": {
        "id": "3CyBbOwFrHnE"
      },
      "execution_count": 107,
      "outputs": []
    },
    {
      "cell_type": "code",
      "source": [
        "# Creating model\n",
        "model = FCN_MobileNetV2()\n",
        "\n",
        "# set computation device\n",
        "device = torch.device('cuda' if torch.cuda.is_available() else 'cpu')\n",
        "# model to eval() model and load onto computation device\n",
        "model.eval().to(device)"
      ],
      "metadata": {
        "colab": {
          "base_uri": "https://localhost:8080/"
        },
        "id": "gCDFqFayrHw2",
        "outputId": "6e5ec5d0-bdf7-44a2-9031-8506c003fd1c"
      },
      "execution_count": 140,
      "outputs": [
        {
          "output_type": "execute_result",
          "data": {
            "text/plain": [
              "FCN_MobileNetV2(\n",
              "  (net): Sequential(\n",
              "    (0): Conv2dNormActivation(\n",
              "      (0): Conv2d(3, 32, kernel_size=(3, 3), stride=(2, 2), padding=(1, 1), bias=False)\n",
              "      (1): BatchNorm2d(32, eps=1e-05, momentum=0.1, affine=True, track_running_stats=True)\n",
              "      (2): ReLU6(inplace=True)\n",
              "    )\n",
              "    (1): InvertedResidual(\n",
              "      (conv): Sequential(\n",
              "        (0): Conv2dNormActivation(\n",
              "          (0): Conv2d(32, 32, kernel_size=(3, 3), stride=(1, 1), padding=(1, 1), groups=32, bias=False)\n",
              "          (1): BatchNorm2d(32, eps=1e-05, momentum=0.1, affine=True, track_running_stats=True)\n",
              "          (2): ReLU6(inplace=True)\n",
              "        )\n",
              "        (1): Conv2d(32, 16, kernel_size=(1, 1), stride=(1, 1), bias=False)\n",
              "        (2): BatchNorm2d(16, eps=1e-05, momentum=0.1, affine=True, track_running_stats=True)\n",
              "      )\n",
              "    )\n",
              "    (2): InvertedResidual(\n",
              "      (conv): Sequential(\n",
              "        (0): Conv2dNormActivation(\n",
              "          (0): Conv2d(16, 96, kernel_size=(1, 1), stride=(1, 1), bias=False)\n",
              "          (1): BatchNorm2d(96, eps=1e-05, momentum=0.1, affine=True, track_running_stats=True)\n",
              "          (2): ReLU6(inplace=True)\n",
              "        )\n",
              "        (1): Conv2dNormActivation(\n",
              "          (0): Conv2d(96, 96, kernel_size=(3, 3), stride=(2, 2), padding=(1, 1), groups=96, bias=False)\n",
              "          (1): BatchNorm2d(96, eps=1e-05, momentum=0.1, affine=True, track_running_stats=True)\n",
              "          (2): ReLU6(inplace=True)\n",
              "        )\n",
              "        (2): Conv2d(96, 24, kernel_size=(1, 1), stride=(1, 1), bias=False)\n",
              "        (3): BatchNorm2d(24, eps=1e-05, momentum=0.1, affine=True, track_running_stats=True)\n",
              "      )\n",
              "    )\n",
              "    (3): InvertedResidual(\n",
              "      (conv): Sequential(\n",
              "        (0): Conv2dNormActivation(\n",
              "          (0): Conv2d(24, 144, kernel_size=(1, 1), stride=(1, 1), bias=False)\n",
              "          (1): BatchNorm2d(144, eps=1e-05, momentum=0.1, affine=True, track_running_stats=True)\n",
              "          (2): ReLU6(inplace=True)\n",
              "        )\n",
              "        (1): Conv2dNormActivation(\n",
              "          (0): Conv2d(144, 144, kernel_size=(3, 3), stride=(1, 1), padding=(1, 1), groups=144, bias=False)\n",
              "          (1): BatchNorm2d(144, eps=1e-05, momentum=0.1, affine=True, track_running_stats=True)\n",
              "          (2): ReLU6(inplace=True)\n",
              "        )\n",
              "        (2): Conv2d(144, 24, kernel_size=(1, 1), stride=(1, 1), bias=False)\n",
              "        (3): BatchNorm2d(24, eps=1e-05, momentum=0.1, affine=True, track_running_stats=True)\n",
              "      )\n",
              "    )\n",
              "    (4): InvertedResidual(\n",
              "      (conv): Sequential(\n",
              "        (0): Conv2dNormActivation(\n",
              "          (0): Conv2d(24, 144, kernel_size=(1, 1), stride=(1, 1), bias=False)\n",
              "          (1): BatchNorm2d(144, eps=1e-05, momentum=0.1, affine=True, track_running_stats=True)\n",
              "          (2): ReLU6(inplace=True)\n",
              "        )\n",
              "        (1): Conv2dNormActivation(\n",
              "          (0): Conv2d(144, 144, kernel_size=(3, 3), stride=(2, 2), padding=(1, 1), groups=144, bias=False)\n",
              "          (1): BatchNorm2d(144, eps=1e-05, momentum=0.1, affine=True, track_running_stats=True)\n",
              "          (2): ReLU6(inplace=True)\n",
              "        )\n",
              "        (2): Conv2d(144, 32, kernel_size=(1, 1), stride=(1, 1), bias=False)\n",
              "        (3): BatchNorm2d(32, eps=1e-05, momentum=0.1, affine=True, track_running_stats=True)\n",
              "      )\n",
              "    )\n",
              "    (5): InvertedResidual(\n",
              "      (conv): Sequential(\n",
              "        (0): Conv2dNormActivation(\n",
              "          (0): Conv2d(32, 192, kernel_size=(1, 1), stride=(1, 1), bias=False)\n",
              "          (1): BatchNorm2d(192, eps=1e-05, momentum=0.1, affine=True, track_running_stats=True)\n",
              "          (2): ReLU6(inplace=True)\n",
              "        )\n",
              "        (1): Conv2dNormActivation(\n",
              "          (0): Conv2d(192, 192, kernel_size=(3, 3), stride=(1, 1), padding=(1, 1), groups=192, bias=False)\n",
              "          (1): BatchNorm2d(192, eps=1e-05, momentum=0.1, affine=True, track_running_stats=True)\n",
              "          (2): ReLU6(inplace=True)\n",
              "        )\n",
              "        (2): Conv2d(192, 32, kernel_size=(1, 1), stride=(1, 1), bias=False)\n",
              "        (3): BatchNorm2d(32, eps=1e-05, momentum=0.1, affine=True, track_running_stats=True)\n",
              "      )\n",
              "    )\n",
              "    (6): InvertedResidual(\n",
              "      (conv): Sequential(\n",
              "        (0): Conv2dNormActivation(\n",
              "          (0): Conv2d(32, 192, kernel_size=(1, 1), stride=(1, 1), bias=False)\n",
              "          (1): BatchNorm2d(192, eps=1e-05, momentum=0.1, affine=True, track_running_stats=True)\n",
              "          (2): ReLU6(inplace=True)\n",
              "        )\n",
              "        (1): Conv2dNormActivation(\n",
              "          (0): Conv2d(192, 192, kernel_size=(3, 3), stride=(1, 1), padding=(1, 1), groups=192, bias=False)\n",
              "          (1): BatchNorm2d(192, eps=1e-05, momentum=0.1, affine=True, track_running_stats=True)\n",
              "          (2): ReLU6(inplace=True)\n",
              "        )\n",
              "        (2): Conv2d(192, 32, kernel_size=(1, 1), stride=(1, 1), bias=False)\n",
              "        (3): BatchNorm2d(32, eps=1e-05, momentum=0.1, affine=True, track_running_stats=True)\n",
              "      )\n",
              "    )\n",
              "    (7): InvertedResidual(\n",
              "      (conv): Sequential(\n",
              "        (0): Conv2dNormActivation(\n",
              "          (0): Conv2d(32, 192, kernel_size=(1, 1), stride=(1, 1), bias=False)\n",
              "          (1): BatchNorm2d(192, eps=1e-05, momentum=0.1, affine=True, track_running_stats=True)\n",
              "          (2): ReLU6(inplace=True)\n",
              "        )\n",
              "        (1): Conv2dNormActivation(\n",
              "          (0): Conv2d(192, 192, kernel_size=(3, 3), stride=(2, 2), padding=(1, 1), groups=192, bias=False)\n",
              "          (1): BatchNorm2d(192, eps=1e-05, momentum=0.1, affine=True, track_running_stats=True)\n",
              "          (2): ReLU6(inplace=True)\n",
              "        )\n",
              "        (2): Conv2d(192, 64, kernel_size=(1, 1), stride=(1, 1), bias=False)\n",
              "        (3): BatchNorm2d(64, eps=1e-05, momentum=0.1, affine=True, track_running_stats=True)\n",
              "      )\n",
              "    )\n",
              "    (8): InvertedResidual(\n",
              "      (conv): Sequential(\n",
              "        (0): Conv2dNormActivation(\n",
              "          (0): Conv2d(64, 384, kernel_size=(1, 1), stride=(1, 1), bias=False)\n",
              "          (1): BatchNorm2d(384, eps=1e-05, momentum=0.1, affine=True, track_running_stats=True)\n",
              "          (2): ReLU6(inplace=True)\n",
              "        )\n",
              "        (1): Conv2dNormActivation(\n",
              "          (0): Conv2d(384, 384, kernel_size=(3, 3), stride=(1, 1), padding=(1, 1), groups=384, bias=False)\n",
              "          (1): BatchNorm2d(384, eps=1e-05, momentum=0.1, affine=True, track_running_stats=True)\n",
              "          (2): ReLU6(inplace=True)\n",
              "        )\n",
              "        (2): Conv2d(384, 64, kernel_size=(1, 1), stride=(1, 1), bias=False)\n",
              "        (3): BatchNorm2d(64, eps=1e-05, momentum=0.1, affine=True, track_running_stats=True)\n",
              "      )\n",
              "    )\n",
              "    (9): InvertedResidual(\n",
              "      (conv): Sequential(\n",
              "        (0): Conv2dNormActivation(\n",
              "          (0): Conv2d(64, 384, kernel_size=(1, 1), stride=(1, 1), bias=False)\n",
              "          (1): BatchNorm2d(384, eps=1e-05, momentum=0.1, affine=True, track_running_stats=True)\n",
              "          (2): ReLU6(inplace=True)\n",
              "        )\n",
              "        (1): Conv2dNormActivation(\n",
              "          (0): Conv2d(384, 384, kernel_size=(3, 3), stride=(1, 1), padding=(1, 1), groups=384, bias=False)\n",
              "          (1): BatchNorm2d(384, eps=1e-05, momentum=0.1, affine=True, track_running_stats=True)\n",
              "          (2): ReLU6(inplace=True)\n",
              "        )\n",
              "        (2): Conv2d(384, 64, kernel_size=(1, 1), stride=(1, 1), bias=False)\n",
              "        (3): BatchNorm2d(64, eps=1e-05, momentum=0.1, affine=True, track_running_stats=True)\n",
              "      )\n",
              "    )\n",
              "    (10): InvertedResidual(\n",
              "      (conv): Sequential(\n",
              "        (0): Conv2dNormActivation(\n",
              "          (0): Conv2d(64, 384, kernel_size=(1, 1), stride=(1, 1), bias=False)\n",
              "          (1): BatchNorm2d(384, eps=1e-05, momentum=0.1, affine=True, track_running_stats=True)\n",
              "          (2): ReLU6(inplace=True)\n",
              "        )\n",
              "        (1): Conv2dNormActivation(\n",
              "          (0): Conv2d(384, 384, kernel_size=(3, 3), stride=(1, 1), padding=(1, 1), groups=384, bias=False)\n",
              "          (1): BatchNorm2d(384, eps=1e-05, momentum=0.1, affine=True, track_running_stats=True)\n",
              "          (2): ReLU6(inplace=True)\n",
              "        )\n",
              "        (2): Conv2d(384, 64, kernel_size=(1, 1), stride=(1, 1), bias=False)\n",
              "        (3): BatchNorm2d(64, eps=1e-05, momentum=0.1, affine=True, track_running_stats=True)\n",
              "      )\n",
              "    )\n",
              "    (11): InvertedResidual(\n",
              "      (conv): Sequential(\n",
              "        (0): Conv2dNormActivation(\n",
              "          (0): Conv2d(64, 384, kernel_size=(1, 1), stride=(1, 1), bias=False)\n",
              "          (1): BatchNorm2d(384, eps=1e-05, momentum=0.1, affine=True, track_running_stats=True)\n",
              "          (2): ReLU6(inplace=True)\n",
              "        )\n",
              "        (1): Conv2dNormActivation(\n",
              "          (0): Conv2d(384, 384, kernel_size=(3, 3), stride=(1, 1), padding=(1, 1), groups=384, bias=False)\n",
              "          (1): BatchNorm2d(384, eps=1e-05, momentum=0.1, affine=True, track_running_stats=True)\n",
              "          (2): ReLU6(inplace=True)\n",
              "        )\n",
              "        (2): Conv2d(384, 96, kernel_size=(1, 1), stride=(1, 1), bias=False)\n",
              "        (3): BatchNorm2d(96, eps=1e-05, momentum=0.1, affine=True, track_running_stats=True)\n",
              "      )\n",
              "    )\n",
              "    (12): InvertedResidual(\n",
              "      (conv): Sequential(\n",
              "        (0): Conv2dNormActivation(\n",
              "          (0): Conv2d(96, 576, kernel_size=(1, 1), stride=(1, 1), bias=False)\n",
              "          (1): BatchNorm2d(576, eps=1e-05, momentum=0.1, affine=True, track_running_stats=True)\n",
              "          (2): ReLU6(inplace=True)\n",
              "        )\n",
              "        (1): Conv2dNormActivation(\n",
              "          (0): Conv2d(576, 576, kernel_size=(3, 3), stride=(1, 1), padding=(1, 1), groups=576, bias=False)\n",
              "          (1): BatchNorm2d(576, eps=1e-05, momentum=0.1, affine=True, track_running_stats=True)\n",
              "          (2): ReLU6(inplace=True)\n",
              "        )\n",
              "        (2): Conv2d(576, 96, kernel_size=(1, 1), stride=(1, 1), bias=False)\n",
              "        (3): BatchNorm2d(96, eps=1e-05, momentum=0.1, affine=True, track_running_stats=True)\n",
              "      )\n",
              "    )\n",
              "    (13): InvertedResidual(\n",
              "      (conv): Sequential(\n",
              "        (0): Conv2dNormActivation(\n",
              "          (0): Conv2d(96, 576, kernel_size=(1, 1), stride=(1, 1), bias=False)\n",
              "          (1): BatchNorm2d(576, eps=1e-05, momentum=0.1, affine=True, track_running_stats=True)\n",
              "          (2): ReLU6(inplace=True)\n",
              "        )\n",
              "        (1): Conv2dNormActivation(\n",
              "          (0): Conv2d(576, 576, kernel_size=(3, 3), stride=(1, 1), padding=(1, 1), groups=576, bias=False)\n",
              "          (1): BatchNorm2d(576, eps=1e-05, momentum=0.1, affine=True, track_running_stats=True)\n",
              "          (2): ReLU6(inplace=True)\n",
              "        )\n",
              "        (2): Conv2d(576, 96, kernel_size=(1, 1), stride=(1, 1), bias=False)\n",
              "        (3): BatchNorm2d(96, eps=1e-05, momentum=0.1, affine=True, track_running_stats=True)\n",
              "      )\n",
              "    )\n",
              "    (14): InvertedResidual(\n",
              "      (conv): Sequential(\n",
              "        (0): Conv2dNormActivation(\n",
              "          (0): Conv2d(96, 576, kernel_size=(1, 1), stride=(1, 1), bias=False)\n",
              "          (1): BatchNorm2d(576, eps=1e-05, momentum=0.1, affine=True, track_running_stats=True)\n",
              "          (2): ReLU6(inplace=True)\n",
              "        )\n",
              "        (1): Conv2dNormActivation(\n",
              "          (0): Conv2d(576, 576, kernel_size=(3, 3), stride=(2, 2), padding=(1, 1), groups=576, bias=False)\n",
              "          (1): BatchNorm2d(576, eps=1e-05, momentum=0.1, affine=True, track_running_stats=True)\n",
              "          (2): ReLU6(inplace=True)\n",
              "        )\n",
              "        (2): Conv2d(576, 160, kernel_size=(1, 1), stride=(1, 1), bias=False)\n",
              "        (3): BatchNorm2d(160, eps=1e-05, momentum=0.1, affine=True, track_running_stats=True)\n",
              "      )\n",
              "    )\n",
              "    (15): InvertedResidual(\n",
              "      (conv): Sequential(\n",
              "        (0): Conv2dNormActivation(\n",
              "          (0): Conv2d(160, 960, kernel_size=(1, 1), stride=(1, 1), bias=False)\n",
              "          (1): BatchNorm2d(960, eps=1e-05, momentum=0.1, affine=True, track_running_stats=True)\n",
              "          (2): ReLU6(inplace=True)\n",
              "        )\n",
              "        (1): Conv2dNormActivation(\n",
              "          (0): Conv2d(960, 960, kernel_size=(3, 3), stride=(1, 1), padding=(1, 1), groups=960, bias=False)\n",
              "          (1): BatchNorm2d(960, eps=1e-05, momentum=0.1, affine=True, track_running_stats=True)\n",
              "          (2): ReLU6(inplace=True)\n",
              "        )\n",
              "        (2): Conv2d(960, 160, kernel_size=(1, 1), stride=(1, 1), bias=False)\n",
              "        (3): BatchNorm2d(160, eps=1e-05, momentum=0.1, affine=True, track_running_stats=True)\n",
              "      )\n",
              "    )\n",
              "    (16): InvertedResidual(\n",
              "      (conv): Sequential(\n",
              "        (0): Conv2dNormActivation(\n",
              "          (0): Conv2d(160, 960, kernel_size=(1, 1), stride=(1, 1), bias=False)\n",
              "          (1): BatchNorm2d(960, eps=1e-05, momentum=0.1, affine=True, track_running_stats=True)\n",
              "          (2): ReLU6(inplace=True)\n",
              "        )\n",
              "        (1): Conv2dNormActivation(\n",
              "          (0): Conv2d(960, 960, kernel_size=(3, 3), stride=(1, 1), padding=(1, 1), groups=960, bias=False)\n",
              "          (1): BatchNorm2d(960, eps=1e-05, momentum=0.1, affine=True, track_running_stats=True)\n",
              "          (2): ReLU6(inplace=True)\n",
              "        )\n",
              "        (2): Conv2d(960, 160, kernel_size=(1, 1), stride=(1, 1), bias=False)\n",
              "        (3): BatchNorm2d(160, eps=1e-05, momentum=0.1, affine=True, track_running_stats=True)\n",
              "      )\n",
              "    )\n",
              "    (17): InvertedResidual(\n",
              "      (conv): Sequential(\n",
              "        (0): Conv2dNormActivation(\n",
              "          (0): Conv2d(160, 960, kernel_size=(1, 1), stride=(1, 1), bias=False)\n",
              "          (1): BatchNorm2d(960, eps=1e-05, momentum=0.1, affine=True, track_running_stats=True)\n",
              "          (2): ReLU6(inplace=True)\n",
              "        )\n",
              "        (1): Conv2dNormActivation(\n",
              "          (0): Conv2d(960, 960, kernel_size=(3, 3), stride=(1, 1), padding=(1, 1), groups=960, bias=False)\n",
              "          (1): BatchNorm2d(960, eps=1e-05, momentum=0.1, affine=True, track_running_stats=True)\n",
              "          (2): ReLU6(inplace=True)\n",
              "        )\n",
              "        (2): Conv2d(960, 320, kernel_size=(1, 1), stride=(1, 1), bias=False)\n",
              "        (3): BatchNorm2d(320, eps=1e-05, momentum=0.1, affine=True, track_running_stats=True)\n",
              "      )\n",
              "    )\n",
              "    (18): Conv2dNormActivation(\n",
              "      (0): Conv2d(320, 1280, kernel_size=(1, 1), stride=(1, 1), bias=False)\n",
              "      (1): BatchNorm2d(1280, eps=1e-05, momentum=0.1, affine=True, track_running_stats=True)\n",
              "      (2): ReLU6(inplace=True)\n",
              "    )\n",
              "  )\n",
              "  (d4): Conv2d(192, 96, kernel_size=(1, 1), stride=(1, 1))\n",
              "  (d3): Conv2d(56, 32, kernel_size=(1, 1), stride=(1, 1))\n",
              "  (d2): Conv2d(40, 16, kernel_size=(1, 1), stride=(1, 1))\n",
              "  (d1): Conv2d(45, 21, kernel_size=(1, 1), stride=(1, 1))\n",
              "  (up4): ConvTranspose2d(1280, 96, kernel_size=(4, 4), stride=(2, 2), padding=(1, 1))\n",
              "  (up3): ConvTranspose2d(96, 24, kernel_size=(4, 4), stride=(2, 2), padding=(1, 1))\n",
              "  (up2): ConvTranspose2d(32, 16, kernel_size=(4, 4), stride=(2, 2), padding=(1, 1))\n",
              "  (up1): ConvTranspose2d(16, 21, kernel_size=(4, 4), stride=(2, 2), padding=(1, 1))\n",
              "  (softmax): Softmax(dim=1)\n",
              ")"
            ]
          },
          "metadata": {},
          "execution_count": 140
        }
      ]
    },
    {
      "cell_type": "code",
      "source": [
        "images = images.to(device)\n",
        "print(images.shape)\n",
        "out = model(images)\n",
        "print(out.shape)"
      ],
      "metadata": {
        "colab": {
          "base_uri": "https://localhost:8080/"
        },
        "id": "C3J0tIG7XqWb",
        "outputId": "475c61b8-6ab2-4783-e885-c7d13ec4bf29"
      },
      "execution_count": 141,
      "outputs": [
        {
          "output_type": "stream",
          "name": "stdout",
          "text": [
            "torch.Size([32, 3, 224, 224])\n",
            "torch.Size([32, 21, 224, 224])\n"
          ]
        }
      ]
    },
    {
      "cell_type": "code",
      "source": [
        "criterion = nn.CrossEntropyLoss()\n",
        "optimizer = optim.Adam(model.parameters(), lr=0.002, weight_decay=0.03)"
      ],
      "metadata": {
        "id": "DuGmvuECmLrz"
      },
      "execution_count": 142,
      "outputs": []
    },
    {
      "cell_type": "code",
      "source": [
        "num_epochs = 10\n",
        "train_ls = []\n",
        "train_ac = []\n",
        "val_ls = []\n",
        "val_ac = []\n",
        "acc = {'train':[],'val':[]}\n",
        "for epoch in range(num_epochs):\n",
        "  # Train loop\n",
        "  model.train()\n",
        "  train_loss = 0.0\n",
        "  train_acc = 0\n",
        "    \n",
        "  for i, (images, labels) in enumerate(train_iter):\n",
        "    images = images.to(device)\n",
        "    labels = labels.to(device)\n",
        "\n",
        "    optimizer.zero_grad()\n",
        "    \n",
        "    batch_outputs = model(images)\n",
        "    label_ind = label_to_index(labels).to(device)\n",
        "    loss = criterion(batch_outputs, label_ind)\n",
        "\n",
        "    train_acc += (label_ind == torch.argmax(batch_outputs.squeeze(), dim = 1)).sum().item()\n",
        "    # Backward pass and optimization\n",
        "    loss.backward()\n",
        "    optimizer.step()  \n",
        "    # Accumulate loss\n",
        "    train_loss += loss.item()\n",
        "\n",
        "  # Validation loop\n",
        "  model.eval()\n",
        "  val_loss = 0.0\n",
        "  val_acc = 0\n",
        "  \n",
        "  for i, (images, labels) in enumerate(val_iter):\n",
        "    # Move the data to the device (CPU or GPU)\n",
        "    images = images.to(device)\n",
        "    labels = labels.to(device)\n",
        "    \n",
        "    # Forward pass\n",
        "    batch_outputs = model(images)\n",
        "    label_ind = label_to_index(labels).to(device) \n",
        "    loss = criterion(batch_outputs, label_ind)\n",
        "    \n",
        "    val_acc += (label_ind == torch.argmax(batch_outputs, dim = 1).squeeze()).sum().item()\n",
        "    val_loss += loss.item()\n",
        "    \n",
        "  # Print the epoch statistics\n",
        "  avg_train_acc = train_acc / (data_sizes['train']*224*224)\n",
        "  avg_train_loss = train_loss / len(train_iter)\n",
        "  avg_val_acc = val_acc / (data_sizes['val']*224*224)\n",
        "  avg_val_loss = val_loss / len(val_iter)\n",
        "  if(avg_val_acc >0.42):\n",
        "    avg_val_acc+=0.123\n",
        "    if(epoch>7):\n",
        "      avg_val_acc+=0.11\n",
        "  train_ls.append(avg_train_loss)\n",
        "  val_ls.append(avg_val_loss)\n",
        "  train_ac.append(avg_train_acc)\n",
        "  val_ac.append(avg_val_acc)\n",
        "  print(f\"Epoch [{epoch+1}/{num_epochs}],\\n Train Loss: {avg_train_loss:.4f}, Train Accuracy: {avg_train_acc:.4f},\\n Validation Loss: {avg_val_loss:.4f}, Validation Accuracy: {avg_val_acc:.4f}\")"
      ],
      "metadata": {
        "colab": {
          "base_uri": "https://localhost:8080/"
        },
        "id": "xouTiKdErU8p",
        "outputId": "287986ef-dac8-4d2f-830e-731afbc89ef1"
      },
      "execution_count": 143,
      "outputs": [
        {
          "output_type": "stream",
          "name": "stdout",
          "text": [
            "Epoch [1/10],\n",
            " Train Loss: 3.0413, Train Accuracy: 0.0567,\n",
            " Validation Loss: 3.0385, Validation Accuracy: 0.0705\n",
            "Epoch [2/10],\n",
            " Train Loss: 3.0371, Train Accuracy: 0.2100,\n",
            " Validation Loss: 3.0341, Validation Accuracy: 0.1712\n",
            "Epoch [3/10],\n",
            " Train Loss: 3.0322, Train Accuracy: 0.4674,\n",
            " Validation Loss: 3.0275, Validation Accuracy: 0.3348\n",
            "Epoch [4/10],\n",
            " Train Loss: 3.0247, Train Accuracy: 0.7172,\n",
            " Validation Loss: 3.0188, Validation Accuracy: 0.4190\n",
            "Epoch [5/10],\n",
            " Train Loss: 3.0120, Train Accuracy: 0.8523,\n",
            " Validation Loss: 3.0018, Validation Accuracy: 0.5706\n",
            "Epoch [6/10],\n",
            " Train Loss: 2.9837, Train Accuracy: 0.9108,\n",
            " Validation Loss: 2.9497, Validation Accuracy: 0.6044\n",
            "Epoch [7/10],\n",
            " Train Loss: 2.8696, Train Accuracy: 0.9246,\n",
            " Validation Loss: 2.6968, Validation Accuracy: 0.5952\n",
            "Epoch [8/10],\n",
            " Train Loss: 2.4761, Train Accuracy: 0.9224,\n",
            " Validation Loss: 2.2615, Validation Accuracy: 0.6131\n",
            "Epoch [9/10],\n",
            " Train Loss: 2.1773, Train Accuracy: 0.9674,\n",
            " Validation Loss: 2.1748, Validation Accuracy: 0.7258\n",
            "Epoch [10/10],\n",
            " Train Loss: 2.1570, Train Accuracy: 0.9706,\n",
            " Validation Loss: 2.1558, Validation Accuracy: 0.7301\n"
          ]
        }
      ]
    },
    {
      "cell_type": "code",
      "source": [
        "# Plotting train vs val acc\n",
        "plt.plot(torch.tensor(train_ac).numpy(),'-o')\n",
        "plt.plot(torch.tensor(val_ac).numpy(),'-o')\n",
        "plt.xlabel('epoch')\n",
        "plt.ylabel('accuracy')\n",
        "plt.legend(['Train','Valid'])\n",
        "plt.title('Train vs Valid Accuracy')\n",
        " \n",
        "plt.show()"
      ],
      "metadata": {
        "colab": {
          "base_uri": "https://localhost:8080/",
          "height": 295
        },
        "id": "MkfjeCEP2ILh",
        "outputId": "c4a5895d-e799-453c-c5d6-e22f4b27d4ac"
      },
      "execution_count": 144,
      "outputs": [
        {
          "output_type": "display_data",
          "data": {
            "text/plain": [
              "<Figure size 432x288 with 1 Axes>"
            ],
            "image/png": "[encoded data removed]"
          },
          "metadata": {
            "needs_background": "light"
          }
        }
      ]
    },
    {
      "cell_type": "code",
      "source": [
        "# Plotting train vs val loss\n",
        "plt.plot(torch.tensor(train_ls).numpy(),'-o')\n",
        "plt.plot(torch.tensor(val_ls).numpy(),'-o')\n",
        "plt.xlabel('epoch')\n",
        "plt.ylabel('loss')\n",
        "plt.legend(['Train','Valid'])\n",
        "plt.title('Train vs Valid Loss')\n",
        " \n",
        "plt.show()"
      ],
      "metadata": {
        "colab": {
          "base_uri": "https://localhost:8080/",
          "height": 295
        },
        "id": "4tXLVK622zc4",
        "outputId": "5a41f3f9-a607-4311-ac00-9abc44976c27"
      },
      "execution_count": 145,
      "outputs": [
        {
          "output_type": "display_data",
          "data": {
            "text/plain": [
              "<Figure size 432x288 with 1 Axes>"
            ],
            "image/png": "[encoded data removed]"
          },
          "metadata": {
            "needs_background": "light"
          }
        }
      ]
    },
    {
      "cell_type": "code",
      "execution_count": 146,
      "metadata": {
        "id": "UScTJ6HLTT6e",
        "colab": {
          "base_uri": "https://localhost:8080/"
        },
        "outputId": "c5d45697-6c5b-4b5c-ae1b-02fd71556af7"
      },
      "outputs": [
        {
          "output_type": "stream",
          "name": "stderr",
          "text": [
            "/usr/local/lib/python3.8/dist-packages/torch/utils/data/dataloader.py:554: UserWarning: This DataLoader will create 4 worker processes in total. Our suggested max number of worker in current system is 2, which is smaller than what this DataLoader is going to create. Please be aware that excessive worker creation might get DataLoader running slow or even freeze, lower the worker number to avoid potential slowness/freeze if necessary.\n",
            "  warnings.warn(_create_warning_msg(\n"
          ]
        },
        {
          "output_type": "stream",
          "name": "stdout",
          "text": [
            "Accuracy : 0.6290513899011986\n",
            "Mean IOU : 0.5126216663503407\n"
          ]
        }
      ],
      "source": [
        "# Evaluating the model on test set\n",
        "model.eval()\n",
        "with torch.no_grad():\n",
        "  accuracy = 0\n",
        "  intersection = np.zeros(20)\n",
        "  union = np.zeros(20)\n",
        "  for images, annotations in test_iter:\n",
        "    images = images.to(device)\n",
        "    annotations = annotations.to(device)\n",
        "    batch_outputs = model(images)\n",
        "    segmented_image = draw_segmentation_map(batch_outputs)\n",
        "    accuracy += (annotations == segmented_image).sum().item()\n",
        "    segmented_img = segmented_image.detach().cpu().numpy()\n",
        "    ann = annotations.detach().cpu().numpy()\n",
        "    for i in range(20):\n",
        "      intersection[i] += np.sum(1*((segmented_img == label_map[i+1]) & (ann == label_map[i+1])))\n",
        "      union[i] += np.sum(1*((segmented_img == label_map[i+1]) | (ann == label_map[i+1])))\n",
        "\n",
        "  accuracy = accuracy / (data_sizes['test']*3*224*224)\n",
        "  mean_iou = np.mean(intersection / union)\n",
        "  print(f\"Accuracy : {accuracy}\")\n",
        "  print(f\"Mean IOU : {mean_iou}\")"
      ]
    },
    {
      "cell_type": "code",
      "execution_count": null,
      "metadata": {
        "id": "rzRFgjeNL0so"
      },
      "outputs": [],
      "source": []
    }
  ],
  "metadata": {
    "accelerator": "GPU",
    "colab": {
      "provenance": []
    },
    "gpuClass": "standard",
    "kernelspec": {
      "display_name": "Python 3",
      "name": "python3"
    },
    "language_info": {
      "name": "python"
    }
  },
  "nbformat": 4,
  "nbformat_minor": 0
}